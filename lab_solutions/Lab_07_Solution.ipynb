{
 "cells": [
  {
   "cell_type": "markdown",
   "metadata": {
    "id": "-Bu0fas7sYxa"
   },
   "source": [
    "# Lab 7 Exercises Solution - Logistic Regression, K-NN & Naive Bayes Classifier\n",
    "\n"
   ]
  },
  {
   "cell_type": "markdown",
   "metadata": {
    "id": "G954b8ADsYxc"
   },
   "source": [
    "The US adult income dataset was extracted by Barry Becker from the 1994 US Census Database. The data set consists of anonymous information such as occupation, age, native country, race, capital gain, capital loss, education, work class and more. Each row is labelled as either having a salary greater than \">50K\" or \"<=50K\".\n",
    "\n",
    "The goal here is to train the logistic regression, K-NN & Naive Bayes classifiers on the training dataset to predict the column `income_bracket` which has two possible values \">50K\" and \"<=50K\" and compare the accuracy of each classifier with the test dataset.\n",
    "\n",
    "Note that the dataset is made up of categorical and continuous features. It also contains missing values\n",
    "The categorical columns are: `workclass, education, marital_status, occupation, relationship, race, gender, native_country`\n",
    "\n",
    "The continuous columns are: `age, education_num, capital_gain, capital_loss, hours_per_week`"
   ]
  },
  {
   "cell_type": "markdown",
   "metadata": {
    "id": "4U74EgYKsYxc"
   },
   "source": [
    "**Dataset columns**\n",
    "\n",
    "```\n",
    "age: continuous.\n",
    "\n",
    "workclass: Private, Self-emp-not-inc, Self-emp-inc, Federal-gov, Local-gov, State-gov, Without-pay, Never-worked.\n",
    "\n",
    "fnlwgt: continuous.\n",
    "\n",
    "education: Bachelors, Some-college, 11th, HS-grad, Prof-school, Assoc-acdm, Assoc-voc, 9th, 7th-8th, 12th, Masters, 1st-4th, 10th, Doctorate, 5th-6th, Preschool.\n",
    "\n",
    "education-num: continuous.\n",
    "\n",
    "marital-status: Married-civ-spouse, Divorced, Never-married, Separated, Widowed, Married-spouse-absent, Married-AF-spouse.\n",
    "\n",
    "occupation: Tech-support, Craft-repair, Other-service, Sales, Exec-managerial, Prof-specialty, Handlers-cleaners, Machine-op-inspct, Adm-clerical, Farming-fishing, Transport-moving, Priv-house-serv, Protective-serv, Armed-Forces.\n",
    "\n",
    "relationship: Wife, Own-child, Husband, Not-in-family, Other-relative, Unmarried.\n",
    "\n",
    "race: White, Asian-Pac-Islander, Amer-Indian-Eskimo, Other, Black.\n",
    "\n",
    "sex: Female, Male.\n",
    "\n",
    "capital-gain: continuous.\n",
    "\n",
    "capital-loss: continuous.\n",
    "\n",
    "hours-per-week: continuous.\n",
    "\n",
    "native-country: United-States, Cambodia, England, Puerto-Rico, Canada, Germany, Outlying-US(Guam-USVI-etc), India, Japan, Greece, South, China, Cuba, Iran, Honduras, Philippines, Italy, Poland, Jamaica, Vietnam, Mexico, Portugal, Ireland, France, Dominican-Republic, Laos, Ecuador, Taiwan, Haiti, Columbia, Hungary, Guatemala, Nicaragua, Scotland, Thailand, Yugoslavia, El-Salvador, Trinadad&Tobago, Peru, Hong, Holand-Netherlands.\n",
    "\n",
    "income-bracket: <=50k, >50k\n",
    "```\n",
    "\n",
    "*Note: for the purposes of this exercise, fnlwgt (final weight, a value assigned by the census bureau as part of their sampling methodology of census data across the 51 states) can be dropped for simplicity*"
   ]
  },
  {
   "cell_type": "markdown",
   "metadata": {
    "id": "0ryWwIqHIHP-"
   },
   "source": [
    "**In this exercise we are going to use `%timeit` magic command to compare the runtime of the different algorithms together. We are going to use it once while building the model and once while scoring the model** \n",
    "\n",
    "The `%timeit` magic command is used measure the execution time of a piece of code. In order to use it, write the command just before the relevant of code, in the same line to measure the execution time.\n",
    "\n",
    "It returns the mean and standard deviation of code run time calculated over `r` number of runs and `n` number of loops within each run (*it may return different results for each time you run the cell*).\n",
    "\n",
    "<br/>\n",
    "<br/>\n",
    "\n",
    "Timeit Function: [Official Python Documentation - timeit function](https://docs.python.org/3/library/timeit.html)\n",
    "\n",
    "%timeit Magic Command - Ipython: [ipython - timeit magic command](https://ipython.readthedocs.io/en/stable/interactive/magics.html)\n",
    "\n",
    "Extra Links on %timeit Magic Command: [nkme - timeit magic command](https://note.nkmk.me/en/python-timeit-measure)"
   ]
  },
  {
   "cell_type": "markdown",
   "metadata": {
    "id": "c9Tcfn79IHP-"
   },
   "source": [
    "**Example**"
   ]
  },
  {
   "cell_type": "code",
   "execution_count": 62,
   "metadata": {
    "id": "0lgBpHm6IHP-",
    "outputId": "056b0257-4852-4c21-88d0-66a926e93ea9"
   },
   "outputs": [
    {
     "name": "stdout",
     "output_type": "stream",
     "text": [
      "791 ns ± 2.1 ns per loop (mean ± std. dev. of 7 runs, 1000000 loops each)\n"
     ]
    }
   ],
   "source": [
    "%timeit [num for num in range(20)]"
   ]
  },
  {
   "cell_type": "markdown",
   "metadata": {
    "id": "WeUExkmIIHQA"
   },
   "source": [
    "In the above example, the list comprehension was evaluated for 7 runs with each run having 1 million loops. This took an average of 791 nanoseconds with a standard deviation of 2.1 nanoseconds (*it may return different results for each time you run the cell*)."
   ]
  },
  {
   "cell_type": "code",
   "execution_count": 63,
   "metadata": {
    "id": "yc0nQOhusYxd"
   },
   "outputs": [],
   "source": [
    "import pandas as pd\n",
    "import numpy as np\n",
    "import matplotlib.pyplot as plt\n",
    "import seaborn as sns\n",
    "\n",
    "%matplotlib inline\n",
    "plt.style.use(\"seaborn\")"
   ]
  },
  {
   "cell_type": "code",
   "execution_count": 64,
   "metadata": {
    "id": "bnKGonnVIHQA"
   },
   "outputs": [],
   "source": [
    "# Suppress warnings\n",
    "import warnings\n",
    "warnings.filterwarnings('ignore')"
   ]
  },
  {
   "cell_type": "markdown",
   "metadata": {
    "id": "Z33OV2_hsYxe"
   },
   "source": [
    "## Dataset Loading & Cleaning"
   ]
  },
  {
   "cell_type": "markdown",
   "metadata": {
    "id": "0hT42Q4SsYxe"
   },
   "source": [
    "**Dataset Loading**\n",
    "\n",
    "Make sure the datasets have been loaded correctly. You may want to have a look at the [pd.read_csv documentation](https://pandas.pydata.org/pandas-docs/stable/reference/api/pandas.read_csv.html) to resolve dataset loading issues."
   ]
  },
  {
   "cell_type": "code",
   "execution_count": 65,
   "metadata": {
    "colab": {
     "base_uri": "https://localhost:8080/",
     "height": 206
    },
    "id": "KFwbU79tsYxf",
    "outputId": "99d1edf9-7bc5-43be-b9e4-2adf21fa7dab"
   },
   "outputs": [
    {
     "data": {
      "text/html": [
       "<div>\n",
       "<style scoped>\n",
       "    .dataframe tbody tr th:only-of-type {\n",
       "        vertical-align: middle;\n",
       "    }\n",
       "\n",
       "    .dataframe tbody tr th {\n",
       "        vertical-align: top;\n",
       "    }\n",
       "\n",
       "    .dataframe thead th {\n",
       "        text-align: right;\n",
       "    }\n",
       "</style>\n",
       "<table border=\"1\" class=\"dataframe\">\n",
       "  <thead>\n",
       "    <tr style=\"text-align: right;\">\n",
       "      <th></th>\n",
       "      <th>age</th>\n",
       "      <th>workclass</th>\n",
       "      <th>fnlwgt</th>\n",
       "      <th>education</th>\n",
       "      <th>education_num</th>\n",
       "      <th>marital_status</th>\n",
       "      <th>occupation</th>\n",
       "      <th>relationship</th>\n",
       "      <th>race</th>\n",
       "      <th>sex</th>\n",
       "      <th>capital_gain</th>\n",
       "      <th>capital_loss</th>\n",
       "      <th>hours_per_week</th>\n",
       "      <th>native_country</th>\n",
       "      <th>income_bracket</th>\n",
       "    </tr>\n",
       "  </thead>\n",
       "  <tbody>\n",
       "    <tr>\n",
       "      <th>0</th>\n",
       "      <td>39</td>\n",
       "      <td>State-gov</td>\n",
       "      <td>77516</td>\n",
       "      <td>Bachelors</td>\n",
       "      <td>13</td>\n",
       "      <td>Never-married</td>\n",
       "      <td>Adm-clerical</td>\n",
       "      <td>Not-in-family</td>\n",
       "      <td>White</td>\n",
       "      <td>Male</td>\n",
       "      <td>2174</td>\n",
       "      <td>0</td>\n",
       "      <td>40</td>\n",
       "      <td>United-States</td>\n",
       "      <td>&lt;=50K</td>\n",
       "    </tr>\n",
       "    <tr>\n",
       "      <th>1</th>\n",
       "      <td>50</td>\n",
       "      <td>Self-emp-not-inc</td>\n",
       "      <td>83311</td>\n",
       "      <td>Bachelors</td>\n",
       "      <td>13</td>\n",
       "      <td>Married-civ-spouse</td>\n",
       "      <td>Exec-managerial</td>\n",
       "      <td>Husband</td>\n",
       "      <td>White</td>\n",
       "      <td>Male</td>\n",
       "      <td>0</td>\n",
       "      <td>0</td>\n",
       "      <td>13</td>\n",
       "      <td>United-States</td>\n",
       "      <td>&lt;=50K</td>\n",
       "    </tr>\n",
       "    <tr>\n",
       "      <th>2</th>\n",
       "      <td>38</td>\n",
       "      <td>Private</td>\n",
       "      <td>215646</td>\n",
       "      <td>HS-grad</td>\n",
       "      <td>9</td>\n",
       "      <td>Divorced</td>\n",
       "      <td>Handlers-cleaners</td>\n",
       "      <td>Not-in-family</td>\n",
       "      <td>White</td>\n",
       "      <td>Male</td>\n",
       "      <td>0</td>\n",
       "      <td>0</td>\n",
       "      <td>40</td>\n",
       "      <td>United-States</td>\n",
       "      <td>&lt;=50K</td>\n",
       "    </tr>\n",
       "    <tr>\n",
       "      <th>3</th>\n",
       "      <td>53</td>\n",
       "      <td>Private</td>\n",
       "      <td>234721</td>\n",
       "      <td>11th</td>\n",
       "      <td>7</td>\n",
       "      <td>Married-civ-spouse</td>\n",
       "      <td>Handlers-cleaners</td>\n",
       "      <td>Husband</td>\n",
       "      <td>Black</td>\n",
       "      <td>Male</td>\n",
       "      <td>0</td>\n",
       "      <td>0</td>\n",
       "      <td>40</td>\n",
       "      <td>United-States</td>\n",
       "      <td>&lt;=50K</td>\n",
       "    </tr>\n",
       "    <tr>\n",
       "      <th>4</th>\n",
       "      <td>28</td>\n",
       "      <td>Private</td>\n",
       "      <td>338409</td>\n",
       "      <td>Bachelors</td>\n",
       "      <td>13</td>\n",
       "      <td>Married-civ-spouse</td>\n",
       "      <td>Prof-specialty</td>\n",
       "      <td>Wife</td>\n",
       "      <td>Black</td>\n",
       "      <td>Female</td>\n",
       "      <td>0</td>\n",
       "      <td>0</td>\n",
       "      <td>40</td>\n",
       "      <td>Cuba</td>\n",
       "      <td>&lt;=50K</td>\n",
       "    </tr>\n",
       "  </tbody>\n",
       "</table>\n",
       "</div>"
      ],
      "text/plain": [
       "   age         workclass  fnlwgt  education  education_num  \\\n",
       "0   39         State-gov   77516  Bachelors             13   \n",
       "1   50  Self-emp-not-inc   83311  Bachelors             13   \n",
       "2   38           Private  215646    HS-grad              9   \n",
       "3   53           Private  234721       11th              7   \n",
       "4   28           Private  338409  Bachelors             13   \n",
       "\n",
       "       marital_status         occupation   relationship   race     sex  \\\n",
       "0       Never-married       Adm-clerical  Not-in-family  White    Male   \n",
       "1  Married-civ-spouse    Exec-managerial        Husband  White    Male   \n",
       "2            Divorced  Handlers-cleaners  Not-in-family  White    Male   \n",
       "3  Married-civ-spouse  Handlers-cleaners        Husband  Black    Male   \n",
       "4  Married-civ-spouse     Prof-specialty           Wife  Black  Female   \n",
       "\n",
       "   capital_gain  capital_loss  hours_per_week native_country income_bracket  \n",
       "0          2174             0              40  United-States          <=50K  \n",
       "1             0             0              13  United-States          <=50K  \n",
       "2             0             0              40  United-States          <=50K  \n",
       "3             0             0              40  United-States          <=50K  \n",
       "4             0             0              40           Cuba          <=50K  "
      ]
     },
     "execution_count": 65,
     "metadata": {},
     "output_type": "execute_result"
    }
   ],
   "source": [
    "try:\n",
    "    df = pd.read_csv('census_income.csv')\n",
    "except:\n",
    "    df = pd.read_csv('https://raw.githubusercontent.com/GUC-DM/W2023/main/data/census_income.csv')    \n",
    "df.head()"
   ]
  },
  {
   "cell_type": "code",
   "execution_count": 66,
   "metadata": {
    "colab": {
     "base_uri": "https://localhost:8080/"
    },
    "id": "IK5IsJdX8TDu",
    "outputId": "b3f9a580-3cd5-4225-c240-1c31e33dd50a"
   },
   "outputs": [
    {
     "name": "stdout",
     "output_type": "stream",
     "text": [
      "<class 'pandas.core.frame.DataFrame'>\n",
      "RangeIndex: 48842 entries, 0 to 48841\n",
      "Data columns (total 15 columns):\n",
      " #   Column          Non-Null Count  Dtype \n",
      "---  ------          --------------  ----- \n",
      " 0   age             48842 non-null  int64 \n",
      " 1   workclass       48842 non-null  object\n",
      " 2   fnlwgt          48842 non-null  int64 \n",
      " 3   education       48842 non-null  object\n",
      " 4   education_num   48842 non-null  int64 \n",
      " 5   marital_status  48842 non-null  object\n",
      " 6   occupation      48842 non-null  object\n",
      " 7   relationship    48842 non-null  object\n",
      " 8   race            48842 non-null  object\n",
      " 9   sex             48842 non-null  object\n",
      " 10  capital_gain    48842 non-null  int64 \n",
      " 11  capital_loss    48842 non-null  int64 \n",
      " 12  hours_per_week  48842 non-null  int64 \n",
      " 13  native_country  48842 non-null  object\n",
      " 14  income_bracket  48842 non-null  object\n",
      "dtypes: int64(6), object(9)\n",
      "memory usage: 5.6+ MB\n"
     ]
    }
   ],
   "source": [
    "df.info()"
   ]
  },
  {
   "cell_type": "markdown",
   "metadata": {
    "id": "BIQ0HFwQsYxf"
   },
   "source": [
    "**Check the unique values for each categorical attribute**"
   ]
  },
  {
   "cell_type": "code",
   "execution_count": 67,
   "metadata": {
    "colab": {
     "base_uri": "https://localhost:8080/"
    },
    "id": "26wBad7AsYxg",
    "outputId": "d28727c8-b74c-4d73-e23d-838711581851"
   },
   "outputs": [
    {
     "name": "stdout",
     "output_type": "stream",
     "text": [
      "workclass: ['State-gov' 'Self-emp-not-inc' 'Private' 'Federal-gov' 'Local-gov' '?'\n",
      " 'Self-emp-inc' 'Without-pay' 'Never-worked']\n",
      "\n",
      "education: ['Bachelors' 'HS-grad' '11th' 'Masters' '9th' 'Some-college' 'Assoc-acdm'\n",
      " 'Assoc-voc' '7th-8th' 'Doctorate' 'Prof-school' '5th-6th' '10th'\n",
      " '1st-4th' 'Preschool' '12th']\n",
      "\n",
      "marital_status: ['Never-married' 'Married-civ-spouse' 'Divorced' 'Married-spouse-absent'\n",
      " 'Separated' 'Married-AF-spouse' 'Widowed']\n",
      "\n",
      "occupation: ['Adm-clerical' 'Exec-managerial' 'Handlers-cleaners' 'Prof-specialty'\n",
      " 'Other-service' 'Sales' 'Craft-repair' 'Transport-moving'\n",
      " 'Farming-fishing' 'Machine-op-inspct' 'Tech-support' '?'\n",
      " 'Protective-serv' 'Armed-Forces' 'Priv-house-serv']\n",
      "\n",
      "relationship: ['Not-in-family' 'Husband' 'Wife' 'Own-child' 'Unmarried' 'Other-relative']\n",
      "\n",
      "race: ['White' 'Black' 'Asian-Pac-Islander' 'Amer-Indian-Eskimo' 'Other']\n",
      "\n",
      "sex: ['Male' 'Female']\n",
      "\n",
      "native_country: ['United-States' 'Cuba' 'Jamaica' 'India' '?' 'Mexico' 'South'\n",
      " 'Puerto-Rico' 'Honduras' 'England' 'Canada' 'Germany' 'Iran'\n",
      " 'Philippines' 'Italy' 'Poland' 'Columbia' 'Cambodia' 'Thailand' 'Ecuador'\n",
      " 'Laos' 'Taiwan' 'Haiti' 'Portugal' 'Dominican-Republic' 'El-Salvador'\n",
      " 'France' 'Guatemala' 'China' 'Japan' 'Yugoslavia' 'Peru'\n",
      " 'Outlying-US(Guam-USVI-etc)' 'Scotland' 'Trinadad&Tobago' 'Greece'\n",
      " 'Nicaragua' 'Vietnam' 'Hong' 'Ireland' 'Hungary' 'Holand-Netherlands']\n",
      "\n",
      "income_bracket: ['<=50K' '>50K' '<=50K.' '>50K.']\n",
      "\n"
     ]
    }
   ],
   "source": [
    "for col in df.select_dtypes(object).columns:\n",
    "    print(f\"{col}: {df[col].unique()}\\n\")"
   ]
  },
  {
   "cell_type": "markdown",
   "metadata": {
    "id": "pFL1C6eHsYxg"
   },
   "source": [
    "**Handle inconsistencies and missing values**"
   ]
  },
  {
   "cell_type": "code",
   "execution_count": 68,
   "metadata": {
    "colab": {
     "base_uri": "https://localhost:8080/"
    },
    "id": "2OYhjpG2sYxh",
    "outputId": "434deb47-0f3f-4947-e2ca-686b03f2e42f"
   },
   "outputs": [
    {
     "data": {
      "text/plain": [
       "array(['<=50K', '>50K'], dtype=object)"
      ]
     },
     "execution_count": 68,
     "metadata": {},
     "output_type": "execute_result"
    }
   ],
   "source": [
    "# Because we want to replace a substring\n",
    "# we use {Series}.str.replace\n",
    "df['income_bracket'] = df['income_bracket'].str.replace('.', '', regex=False)\n",
    "df['income_bracket'].unique()"
   ]
  },
  {
   "cell_type": "code",
   "execution_count": 69,
   "metadata": {
    "id": "bjQmQAodsYxh"
   },
   "outputs": [],
   "source": [
    "# The '?' missing value indicator can be specified when loading the dataset using the na_values parameter\n",
    "# (assuming that there are no inconsistent whitespaces); code:\n",
    "# df = pd.read_csv('https://raw.githubusercontent.com/GUC-DM/W2022/main/data/census_income.csv', na_values='?')\n",
    "\n",
    "# Alternatively, we can perform this change after loading the dataset.\n",
    "# We'll strip any extra whitespaces from both ends of the string (just in case),\n",
    "# and replace the '?' character with the null indicator np.NaN\n",
    "for col in df.select_dtypes(object).columns:\n",
    "    df[col] = df[col].str.strip()\n",
    "    # Because we want to replace a value with another value,\n",
    "    # we use {DataFrame/Series}.replace (notice how we didn't use the .str accessor)\n",
    "    # This is equivalent to writing:\n",
    "    # df.loc[df[col] == '?', col] = np.NaN\n",
    "    df[col] = df[col].replace('?', np.NaN, regex=False)"
   ]
  },
  {
   "cell_type": "code",
   "execution_count": 70,
   "metadata": {
    "id": "VPflSc1OsYxh"
   },
   "outputs": [],
   "source": [
    "# alternative one-line solution that applies this over each column\n",
    "#df = df.transform(lambda x: x.str.strip().replace('?', np.NaN, regex=False) if x.dtype == 'object' else x)"
   ]
  },
  {
   "cell_type": "code",
   "execution_count": 71,
   "metadata": {
    "colab": {
     "base_uri": "https://localhost:8080/"
    },
    "id": "AcYFwgHYsYxi",
    "outputId": "12291a37-d752-42f7-b4d1-d539287decb1"
   },
   "outputs": [
    {
     "data": {
      "text/plain": [
       "age                  0\n",
       "workclass         2799\n",
       "fnlwgt               0\n",
       "education            0\n",
       "education_num        0\n",
       "marital_status       0\n",
       "occupation        2809\n",
       "relationship         0\n",
       "race                 0\n",
       "sex                  0\n",
       "capital_gain         0\n",
       "capital_loss         0\n",
       "hours_per_week       0\n",
       "native_country     857\n",
       "income_bracket       0\n",
       "dtype: int64"
      ]
     },
     "execution_count": 71,
     "metadata": {},
     "output_type": "execute_result"
    }
   ],
   "source": [
    "df.isnull().sum()"
   ]
  },
  {
   "cell_type": "code",
   "execution_count": 72,
   "metadata": {
    "colab": {
     "base_uri": "https://localhost:8080/"
    },
    "id": "puIIkaO3sYxi",
    "outputId": "881025e6-d972-4459-d4da-21fb358612cc"
   },
   "outputs": [
    {
     "data": {
      "text/plain": [
       "age               0.000000\n",
       "workclass         5.730724\n",
       "fnlwgt            0.000000\n",
       "education         0.000000\n",
       "education_num     0.000000\n",
       "marital_status    0.000000\n",
       "occupation        5.751198\n",
       "relationship      0.000000\n",
       "race              0.000000\n",
       "sex               0.000000\n",
       "capital_gain      0.000000\n",
       "capital_loss      0.000000\n",
       "hours_per_week    0.000000\n",
       "native_country    1.754637\n",
       "income_bracket    0.000000\n",
       "dtype: float64"
      ]
     },
     "execution_count": 72,
     "metadata": {},
     "output_type": "execute_result"
    }
   ],
   "source": [
    "df.isnull().sum() / len(df) * 100"
   ]
  },
  {
   "cell_type": "code",
   "execution_count": 73,
   "metadata": {
    "colab": {
     "base_uri": "https://localhost:8080/"
    },
    "id": "6F791Y2NsYxi",
    "outputId": "a4129b32-a265-45d9-e66c-6633d087ea32"
   },
   "outputs": [
    {
     "data": {
      "text/plain": [
       "age               0\n",
       "workclass         0\n",
       "fnlwgt            0\n",
       "education         0\n",
       "education_num     0\n",
       "marital_status    0\n",
       "occupation        0\n",
       "relationship      0\n",
       "race              0\n",
       "sex               0\n",
       "capital_gain      0\n",
       "capital_loss      0\n",
       "hours_per_week    0\n",
       "native_country    0\n",
       "income_bracket    0\n",
       "dtype: int64"
      ]
     },
     "execution_count": 73,
     "metadata": {},
     "output_type": "execute_result"
    }
   ],
   "source": [
    "# since there are few records with null values,\n",
    "# we can drop them from the dataset\n",
    "df = df.dropna()\n",
    "df.dropna().isnull().sum()"
   ]
  },
  {
   "cell_type": "markdown",
   "metadata": {
    "id": "EI_GzSkIsYxj"
   },
   "source": [
    "For the sake of simplicty, we won't be using the fnlwgt attribute\n",
    "\n",
    "**Drop the fnlwgt attribute from the dataset**"
   ]
  },
  {
   "cell_type": "code",
   "execution_count": 74,
   "metadata": {
    "colab": {
     "base_uri": "https://localhost:8080/"
    },
    "id": "EPQKHuU9sYxj",
    "outputId": "df28fe04-e792-455b-9833-16c8c9cbc6da"
   },
   "outputs": [
    {
     "name": "stdout",
     "output_type": "stream",
     "text": [
      "<class 'pandas.core.frame.DataFrame'>\n",
      "Int64Index: 45222 entries, 0 to 48841\n",
      "Data columns (total 13 columns):\n",
      " #   Column          Non-Null Count  Dtype \n",
      "---  ------          --------------  ----- \n",
      " 0   age             45222 non-null  int64 \n",
      " 1   workclass       45222 non-null  object\n",
      " 2   education       45222 non-null  object\n",
      " 3   marital_status  45222 non-null  object\n",
      " 4   occupation      45222 non-null  object\n",
      " 5   relationship    45222 non-null  object\n",
      " 6   race            45222 non-null  object\n",
      " 7   sex             45222 non-null  object\n",
      " 8   capital_gain    45222 non-null  int64 \n",
      " 9   capital_loss    45222 non-null  int64 \n",
      " 10  hours_per_week  45222 non-null  int64 \n",
      " 11  native_country  45222 non-null  object\n",
      " 12  income_bracket  45222 non-null  object\n",
      "dtypes: int64(4), object(9)\n",
      "memory usage: 4.8+ MB\n"
     ]
    }
   ],
   "source": [
    "# We'll also drop education_num (since that's just mapping education's values)\n",
    "df = df.drop(['fnlwgt', 'education_num'], axis=1)\n",
    "df.info()"
   ]
  },
  {
   "cell_type": "markdown",
   "metadata": {
    "id": "pM4Mb4QnsYxj"
   },
   "source": [
    "## Exploratory Data Analysis"
   ]
  },
  {
   "cell_type": "markdown",
   "metadata": {
    "id": "HVZ5Fi9TsYxj"
   },
   "source": [
    "**Q: Does education have an impact on a person's income bracket?**\n",
    "\n",
    "*Hint: see lab 6 for an example of plotting a categorical attribute against a binary attribute.*"
   ]
  },
  {
   "cell_type": "code",
   "execution_count": 75,
   "metadata": {
    "id": "r4TjcGRCsYxj"
   },
   "outputs": [],
   "source": [
    "# Since the less than (<) sign comes before the greater than sign (>)\n",
    "# We won't need to manually map each value and can just let pandas handle the conversion\n",
    "# This allows seaborn to numerically calculate the percentage of employees who earn >=50k for the barplot\n",
    "# (Since >50k is 1, and <=50k is 0)\n",
    "df['income_bracket'] = df['income_bracket'].astype('category').cat.codes"
   ]
  },
  {
   "cell_type": "code",
   "execution_count": 76,
   "metadata": {
    "colab": {
     "base_uri": "https://localhost:8080/"
    },
    "id": "eU_6nRzisYxk",
    "outputId": "92206593-3f47-4dbc-8eee-f76d9340cf19"
   },
   "outputs": [
    {
     "data": {
      "text/plain": [
       "0        0\n",
       "1        0\n",
       "2        0\n",
       "3        0\n",
       "4        0\n",
       "        ..\n",
       "48836    0\n",
       "48837    0\n",
       "48839    0\n",
       "48840    0\n",
       "48841    1\n",
       "Name: income_bracket, Length: 45222, dtype: int8"
      ]
     },
     "execution_count": 76,
     "metadata": {},
     "output_type": "execute_result"
    }
   ],
   "source": [
    "df['income_bracket']"
   ]
  },
  {
   "cell_type": "code",
   "execution_count": 77,
   "metadata": {
    "id": "OPoeqXiGIHQE",
    "outputId": "73cc7903-c65b-49d7-8fc5-037dc20f08bc"
   },
   "outputs": [
    {
     "name": "stdout",
     "output_type": "stream",
     "text": [
      "0    34014\n",
      "1    11208\n",
      "Name: income_bracket, dtype: int64\n",
      "----------------------------------------------------------------\n",
      "0    0.752156\n",
      "1    0.247844\n",
      "Name: income_bracket, dtype: float64\n"
     ]
    }
   ],
   "source": [
    "# Checking for the distrubution of the income classes\n",
    "\n",
    "print(df['income_bracket'].value_counts())\n",
    "print('----------------------------------------------------------------')\n",
    "print(df['income_bracket'].value_counts()/ df['income_bracket'].count())"
   ]
  },
  {
   "cell_type": "code",
   "execution_count": 78,
   "metadata": {
    "colab": {
     "base_uri": "https://localhost:8080/"
    },
    "id": "xojbVJXwsYxk",
    "outputId": "c192fe5d-a533-471a-bfb4-b833a7c99a84"
   },
   "outputs": [
    {
     "data": {
      "text/plain": [
       "Index(['Preschool', '1st-4th', '5th-6th', '11th', '9th', '7th-8th', '10th',\n",
       "       '12th', 'HS-grad', 'Some-college', 'Assoc-voc', 'Assoc-acdm',\n",
       "       'Bachelors', 'Masters', 'Doctorate', 'Prof-school'],\n",
       "      dtype='object', name='education')"
      ]
     },
     "execution_count": 78,
     "metadata": {},
     "output_type": "execute_result"
    }
   ],
   "source": [
    "# Optional ordering\n",
    "order = df[['education', 'income_bracket']].groupby('education').mean().sort_values('income_bracket').index\n",
    "order"
   ]
  },
  {
   "cell_type": "code",
   "execution_count": 79,
   "metadata": {
    "colab": {
     "base_uri": "https://localhost:8080/"
    },
    "id": "90kWIEDxsYxk",
    "outputId": "d0cd7176-7593-4852-c857-d5af86a30295"
   },
   "outputs": [
    {
     "data": {
      "image/png": "[encoded data removed]",
      "text/plain": [
       "<Figure size 576x396 with 1 Axes>"
      ]
     },
     "metadata": {},
     "output_type": "display_data"
    }
   ],
   "source": [
    "ax = sns.barplot(x='education', y='income_bracket', data=df, order=order);\n",
    "# rotate the axis tick labels for clarity (otherwise they would overlap)\n",
    "ax.set_xticklabels(ax.get_xticklabels(),rotation=90);"
   ]
  },
  {
   "cell_type": "markdown",
   "metadata": {
    "id": "SRdO6grMsYxk"
   },
   "source": [
    "## Data Preprocessing"
   ]
  },
  {
   "cell_type": "markdown",
   "metadata": {
    "id": "JwP0MsnKsYxl"
   },
   "source": [
    "**Encode the categorical columns using an appropriate strategy**"
   ]
  },
  {
   "cell_type": "code",
   "execution_count": 80,
   "metadata": {},
   "outputs": [
    {
     "data": {
      "text/plain": [
       "Index(['workclass', 'education', 'marital_status', 'occupation',\n",
       "       'relationship', 'race', 'sex', 'native_country'],\n",
       "      dtype='object')"
      ]
     },
     "execution_count": 80,
     "metadata": {},
     "output_type": "execute_result"
    }
   ],
   "source": [
    "Categorical_columns = df.select_dtypes(object).columns\n",
    "Categorical_columns"
   ]
  },
  {
   "cell_type": "code",
   "execution_count": 81,
   "metadata": {
    "id": "VC59x-ehsYxl"
   },
   "outputs": [
    {
     "data": {
      "text/html": [
       "<div>\n",
       "<style scoped>\n",
       "    .dataframe tbody tr th:only-of-type {\n",
       "        vertical-align: middle;\n",
       "    }\n",
       "\n",
       "    .dataframe tbody tr th {\n",
       "        vertical-align: top;\n",
       "    }\n",
       "\n",
       "    .dataframe thead th {\n",
       "        text-align: right;\n",
       "    }\n",
       "</style>\n",
       "<table border=\"1\" class=\"dataframe\">\n",
       "  <thead>\n",
       "    <tr style=\"text-align: right;\">\n",
       "      <th></th>\n",
       "      <th>age</th>\n",
       "      <th>workclass</th>\n",
       "      <th>education</th>\n",
       "      <th>marital_status</th>\n",
       "      <th>occupation</th>\n",
       "      <th>relationship</th>\n",
       "      <th>race</th>\n",
       "      <th>sex</th>\n",
       "      <th>capital_gain</th>\n",
       "      <th>capital_loss</th>\n",
       "      <th>hours_per_week</th>\n",
       "      <th>native_country</th>\n",
       "      <th>income_bracket</th>\n",
       "    </tr>\n",
       "  </thead>\n",
       "  <tbody>\n",
       "    <tr>\n",
       "      <th>0</th>\n",
       "      <td>39</td>\n",
       "      <td>State-gov</td>\n",
       "      <td>9</td>\n",
       "      <td>Never-married</td>\n",
       "      <td>Adm-clerical</td>\n",
       "      <td>Not-in-family</td>\n",
       "      <td>White</td>\n",
       "      <td>Male</td>\n",
       "      <td>2174</td>\n",
       "      <td>0</td>\n",
       "      <td>40</td>\n",
       "      <td>United-States</td>\n",
       "      <td>0</td>\n",
       "    </tr>\n",
       "    <tr>\n",
       "      <th>1</th>\n",
       "      <td>50</td>\n",
       "      <td>Self-emp-not-inc</td>\n",
       "      <td>9</td>\n",
       "      <td>Married-civ-spouse</td>\n",
       "      <td>Exec-managerial</td>\n",
       "      <td>Husband</td>\n",
       "      <td>White</td>\n",
       "      <td>Male</td>\n",
       "      <td>0</td>\n",
       "      <td>0</td>\n",
       "      <td>13</td>\n",
       "      <td>United-States</td>\n",
       "      <td>0</td>\n",
       "    </tr>\n",
       "    <tr>\n",
       "      <th>2</th>\n",
       "      <td>38</td>\n",
       "      <td>Private</td>\n",
       "      <td>11</td>\n",
       "      <td>Divorced</td>\n",
       "      <td>Handlers-cleaners</td>\n",
       "      <td>Not-in-family</td>\n",
       "      <td>White</td>\n",
       "      <td>Male</td>\n",
       "      <td>0</td>\n",
       "      <td>0</td>\n",
       "      <td>40</td>\n",
       "      <td>United-States</td>\n",
       "      <td>0</td>\n",
       "    </tr>\n",
       "    <tr>\n",
       "      <th>3</th>\n",
       "      <td>53</td>\n",
       "      <td>Private</td>\n",
       "      <td>1</td>\n",
       "      <td>Married-civ-spouse</td>\n",
       "      <td>Handlers-cleaners</td>\n",
       "      <td>Husband</td>\n",
       "      <td>Black</td>\n",
       "      <td>Male</td>\n",
       "      <td>0</td>\n",
       "      <td>0</td>\n",
       "      <td>40</td>\n",
       "      <td>United-States</td>\n",
       "      <td>0</td>\n",
       "    </tr>\n",
       "    <tr>\n",
       "      <th>4</th>\n",
       "      <td>28</td>\n",
       "      <td>Private</td>\n",
       "      <td>9</td>\n",
       "      <td>Married-civ-spouse</td>\n",
       "      <td>Prof-specialty</td>\n",
       "      <td>Wife</td>\n",
       "      <td>Black</td>\n",
       "      <td>Female</td>\n",
       "      <td>0</td>\n",
       "      <td>0</td>\n",
       "      <td>40</td>\n",
       "      <td>Cuba</td>\n",
       "      <td>0</td>\n",
       "    </tr>\n",
       "    <tr>\n",
       "      <th>...</th>\n",
       "      <td>...</td>\n",
       "      <td>...</td>\n",
       "      <td>...</td>\n",
       "      <td>...</td>\n",
       "      <td>...</td>\n",
       "      <td>...</td>\n",
       "      <td>...</td>\n",
       "      <td>...</td>\n",
       "      <td>...</td>\n",
       "      <td>...</td>\n",
       "      <td>...</td>\n",
       "      <td>...</td>\n",
       "      <td>...</td>\n",
       "    </tr>\n",
       "    <tr>\n",
       "      <th>48836</th>\n",
       "      <td>33</td>\n",
       "      <td>Private</td>\n",
       "      <td>9</td>\n",
       "      <td>Never-married</td>\n",
       "      <td>Prof-specialty</td>\n",
       "      <td>Own-child</td>\n",
       "      <td>White</td>\n",
       "      <td>Male</td>\n",
       "      <td>0</td>\n",
       "      <td>0</td>\n",
       "      <td>40</td>\n",
       "      <td>United-States</td>\n",
       "      <td>0</td>\n",
       "    </tr>\n",
       "    <tr>\n",
       "      <th>48837</th>\n",
       "      <td>39</td>\n",
       "      <td>Private</td>\n",
       "      <td>9</td>\n",
       "      <td>Divorced</td>\n",
       "      <td>Prof-specialty</td>\n",
       "      <td>Not-in-family</td>\n",
       "      <td>White</td>\n",
       "      <td>Female</td>\n",
       "      <td>0</td>\n",
       "      <td>0</td>\n",
       "      <td>36</td>\n",
       "      <td>United-States</td>\n",
       "      <td>0</td>\n",
       "    </tr>\n",
       "    <tr>\n",
       "      <th>48839</th>\n",
       "      <td>38</td>\n",
       "      <td>Private</td>\n",
       "      <td>9</td>\n",
       "      <td>Married-civ-spouse</td>\n",
       "      <td>Prof-specialty</td>\n",
       "      <td>Husband</td>\n",
       "      <td>White</td>\n",
       "      <td>Male</td>\n",
       "      <td>0</td>\n",
       "      <td>0</td>\n",
       "      <td>50</td>\n",
       "      <td>United-States</td>\n",
       "      <td>0</td>\n",
       "    </tr>\n",
       "    <tr>\n",
       "      <th>48840</th>\n",
       "      <td>44</td>\n",
       "      <td>Private</td>\n",
       "      <td>9</td>\n",
       "      <td>Divorced</td>\n",
       "      <td>Adm-clerical</td>\n",
       "      <td>Own-child</td>\n",
       "      <td>Asian-Pac-Islander</td>\n",
       "      <td>Male</td>\n",
       "      <td>5455</td>\n",
       "      <td>0</td>\n",
       "      <td>40</td>\n",
       "      <td>United-States</td>\n",
       "      <td>0</td>\n",
       "    </tr>\n",
       "    <tr>\n",
       "      <th>48841</th>\n",
       "      <td>35</td>\n",
       "      <td>Self-emp-inc</td>\n",
       "      <td>9</td>\n",
       "      <td>Married-civ-spouse</td>\n",
       "      <td>Exec-managerial</td>\n",
       "      <td>Husband</td>\n",
       "      <td>White</td>\n",
       "      <td>Male</td>\n",
       "      <td>0</td>\n",
       "      <td>0</td>\n",
       "      <td>60</td>\n",
       "      <td>United-States</td>\n",
       "      <td>1</td>\n",
       "    </tr>\n",
       "  </tbody>\n",
       "</table>\n",
       "<p>45222 rows × 13 columns</p>\n",
       "</div>"
      ],
      "text/plain": [
       "       age         workclass  education      marital_status  \\\n",
       "0       39         State-gov          9       Never-married   \n",
       "1       50  Self-emp-not-inc          9  Married-civ-spouse   \n",
       "2       38           Private         11            Divorced   \n",
       "3       53           Private          1  Married-civ-spouse   \n",
       "4       28           Private          9  Married-civ-spouse   \n",
       "...    ...               ...        ...                 ...   \n",
       "48836   33           Private          9       Never-married   \n",
       "48837   39           Private          9            Divorced   \n",
       "48839   38           Private          9  Married-civ-spouse   \n",
       "48840   44           Private          9            Divorced   \n",
       "48841   35      Self-emp-inc          9  Married-civ-spouse   \n",
       "\n",
       "              occupation   relationship                race     sex  \\\n",
       "0           Adm-clerical  Not-in-family               White    Male   \n",
       "1        Exec-managerial        Husband               White    Male   \n",
       "2      Handlers-cleaners  Not-in-family               White    Male   \n",
       "3      Handlers-cleaners        Husband               Black    Male   \n",
       "4         Prof-specialty           Wife               Black  Female   \n",
       "...                  ...            ...                 ...     ...   \n",
       "48836     Prof-specialty      Own-child               White    Male   \n",
       "48837     Prof-specialty  Not-in-family               White  Female   \n",
       "48839     Prof-specialty        Husband               White    Male   \n",
       "48840       Adm-clerical      Own-child  Asian-Pac-Islander    Male   \n",
       "48841    Exec-managerial        Husband               White    Male   \n",
       "\n",
       "       capital_gain  capital_loss  hours_per_week native_country  \\\n",
       "0              2174             0              40  United-States   \n",
       "1                 0             0              13  United-States   \n",
       "2                 0             0              40  United-States   \n",
       "3                 0             0              40  United-States   \n",
       "4                 0             0              40           Cuba   \n",
       "...             ...           ...             ...            ...   \n",
       "48836             0             0              40  United-States   \n",
       "48837             0             0              36  United-States   \n",
       "48839             0             0              50  United-States   \n",
       "48840          5455             0              40  United-States   \n",
       "48841             0             0              60  United-States   \n",
       "\n",
       "       income_bracket  \n",
       "0                   0  \n",
       "1                   0  \n",
       "2                   0  \n",
       "3                   0  \n",
       "4                   0  \n",
       "...               ...  \n",
       "48836               0  \n",
       "48837               0  \n",
       "48839               0  \n",
       "48840               0  \n",
       "48841               1  \n",
       "\n",
       "[45222 rows x 13 columns]"
      ]
     },
     "execution_count": 81,
     "metadata": {},
     "output_type": "execute_result"
    }
   ],
   "source": [
    "# Label Encoding\n",
    "# the only column which will be label encoded is the Education column as the categories in it are ordinal\n",
    "\n",
    "df_encoded = df.copy()\n",
    "df_encoded['education'] = df_encoded['education'].astype('category').cat.codes\n",
    "df_encoded"
   ]
  },
  {
   "cell_type": "code",
   "execution_count": 82,
   "metadata": {},
   "outputs": [
    {
     "data": {
      "text/plain": [
       "Index(['workclass', 'marital_status', 'occupation', 'relationship', 'race',\n",
       "       'sex', 'native_country'],\n",
       "      dtype='object')"
      ]
     },
     "execution_count": 82,
     "metadata": {},
     "output_type": "execute_result"
    }
   ],
   "source": [
    "Categorical_columns = df.select_dtypes(object).columns\n",
    "Categorical_columns = Categorical_columns.drop('education')\n",
    "Categorical_columns"
   ]
  },
  {
   "cell_type": "code",
   "execution_count": 83,
   "metadata": {
    "colab": {
     "base_uri": "https://localhost:8080/",
     "height": 505
    },
    "id": "VrekK2N4sYxl",
    "outputId": "6a21a0ba-cd1a-46b2-d892-b630271b5421"
   },
   "outputs": [
    {
     "data": {
      "text/html": [
       "<div>\n",
       "<style scoped>\n",
       "    .dataframe tbody tr th:only-of-type {\n",
       "        vertical-align: middle;\n",
       "    }\n",
       "\n",
       "    .dataframe tbody tr th {\n",
       "        vertical-align: top;\n",
       "    }\n",
       "\n",
       "    .dataframe thead th {\n",
       "        text-align: right;\n",
       "    }\n",
       "</style>\n",
       "<table border=\"1\" class=\"dataframe\">\n",
       "  <thead>\n",
       "    <tr style=\"text-align: right;\">\n",
       "      <th></th>\n",
       "      <th>age</th>\n",
       "      <th>education</th>\n",
       "      <th>capital_gain</th>\n",
       "      <th>capital_loss</th>\n",
       "      <th>hours_per_week</th>\n",
       "      <th>income_bracket</th>\n",
       "      <th>workclass_Federal-gov</th>\n",
       "      <th>workclass_Local-gov</th>\n",
       "      <th>workclass_Private</th>\n",
       "      <th>workclass_Self-emp-inc</th>\n",
       "      <th>...</th>\n",
       "      <th>native_country_Portugal</th>\n",
       "      <th>native_country_Puerto-Rico</th>\n",
       "      <th>native_country_Scotland</th>\n",
       "      <th>native_country_South</th>\n",
       "      <th>native_country_Taiwan</th>\n",
       "      <th>native_country_Thailand</th>\n",
       "      <th>native_country_Trinadad&amp;Tobago</th>\n",
       "      <th>native_country_United-States</th>\n",
       "      <th>native_country_Vietnam</th>\n",
       "      <th>native_country_Yugoslavia</th>\n",
       "    </tr>\n",
       "  </thead>\n",
       "  <tbody>\n",
       "    <tr>\n",
       "      <th>0</th>\n",
       "      <td>39</td>\n",
       "      <td>9</td>\n",
       "      <td>2174</td>\n",
       "      <td>0</td>\n",
       "      <td>40</td>\n",
       "      <td>0</td>\n",
       "      <td>0</td>\n",
       "      <td>0</td>\n",
       "      <td>0</td>\n",
       "      <td>0</td>\n",
       "      <td>...</td>\n",
       "      <td>0</td>\n",
       "      <td>0</td>\n",
       "      <td>0</td>\n",
       "      <td>0</td>\n",
       "      <td>0</td>\n",
       "      <td>0</td>\n",
       "      <td>0</td>\n",
       "      <td>1</td>\n",
       "      <td>0</td>\n",
       "      <td>0</td>\n",
       "    </tr>\n",
       "    <tr>\n",
       "      <th>1</th>\n",
       "      <td>50</td>\n",
       "      <td>9</td>\n",
       "      <td>0</td>\n",
       "      <td>0</td>\n",
       "      <td>13</td>\n",
       "      <td>0</td>\n",
       "      <td>0</td>\n",
       "      <td>0</td>\n",
       "      <td>0</td>\n",
       "      <td>0</td>\n",
       "      <td>...</td>\n",
       "      <td>0</td>\n",
       "      <td>0</td>\n",
       "      <td>0</td>\n",
       "      <td>0</td>\n",
       "      <td>0</td>\n",
       "      <td>0</td>\n",
       "      <td>0</td>\n",
       "      <td>1</td>\n",
       "      <td>0</td>\n",
       "      <td>0</td>\n",
       "    </tr>\n",
       "    <tr>\n",
       "      <th>2</th>\n",
       "      <td>38</td>\n",
       "      <td>11</td>\n",
       "      <td>0</td>\n",
       "      <td>0</td>\n",
       "      <td>40</td>\n",
       "      <td>0</td>\n",
       "      <td>0</td>\n",
       "      <td>0</td>\n",
       "      <td>1</td>\n",
       "      <td>0</td>\n",
       "      <td>...</td>\n",
       "      <td>0</td>\n",
       "      <td>0</td>\n",
       "      <td>0</td>\n",
       "      <td>0</td>\n",
       "      <td>0</td>\n",
       "      <td>0</td>\n",
       "      <td>0</td>\n",
       "      <td>1</td>\n",
       "      <td>0</td>\n",
       "      <td>0</td>\n",
       "    </tr>\n",
       "    <tr>\n",
       "      <th>3</th>\n",
       "      <td>53</td>\n",
       "      <td>1</td>\n",
       "      <td>0</td>\n",
       "      <td>0</td>\n",
       "      <td>40</td>\n",
       "      <td>0</td>\n",
       "      <td>0</td>\n",
       "      <td>0</td>\n",
       "      <td>1</td>\n",
       "      <td>0</td>\n",
       "      <td>...</td>\n",
       "      <td>0</td>\n",
       "      <td>0</td>\n",
       "      <td>0</td>\n",
       "      <td>0</td>\n",
       "      <td>0</td>\n",
       "      <td>0</td>\n",
       "      <td>0</td>\n",
       "      <td>1</td>\n",
       "      <td>0</td>\n",
       "      <td>0</td>\n",
       "    </tr>\n",
       "    <tr>\n",
       "      <th>4</th>\n",
       "      <td>28</td>\n",
       "      <td>9</td>\n",
       "      <td>0</td>\n",
       "      <td>0</td>\n",
       "      <td>40</td>\n",
       "      <td>0</td>\n",
       "      <td>0</td>\n",
       "      <td>0</td>\n",
       "      <td>1</td>\n",
       "      <td>0</td>\n",
       "      <td>...</td>\n",
       "      <td>0</td>\n",
       "      <td>0</td>\n",
       "      <td>0</td>\n",
       "      <td>0</td>\n",
       "      <td>0</td>\n",
       "      <td>0</td>\n",
       "      <td>0</td>\n",
       "      <td>0</td>\n",
       "      <td>0</td>\n",
       "      <td>0</td>\n",
       "    </tr>\n",
       "    <tr>\n",
       "      <th>...</th>\n",
       "      <td>...</td>\n",
       "      <td>...</td>\n",
       "      <td>...</td>\n",
       "      <td>...</td>\n",
       "      <td>...</td>\n",
       "      <td>...</td>\n",
       "      <td>...</td>\n",
       "      <td>...</td>\n",
       "      <td>...</td>\n",
       "      <td>...</td>\n",
       "      <td>...</td>\n",
       "      <td>...</td>\n",
       "      <td>...</td>\n",
       "      <td>...</td>\n",
       "      <td>...</td>\n",
       "      <td>...</td>\n",
       "      <td>...</td>\n",
       "      <td>...</td>\n",
       "      <td>...</td>\n",
       "      <td>...</td>\n",
       "      <td>...</td>\n",
       "    </tr>\n",
       "    <tr>\n",
       "      <th>48836</th>\n",
       "      <td>33</td>\n",
       "      <td>9</td>\n",
       "      <td>0</td>\n",
       "      <td>0</td>\n",
       "      <td>40</td>\n",
       "      <td>0</td>\n",
       "      <td>0</td>\n",
       "      <td>0</td>\n",
       "      <td>1</td>\n",
       "      <td>0</td>\n",
       "      <td>...</td>\n",
       "      <td>0</td>\n",
       "      <td>0</td>\n",
       "      <td>0</td>\n",
       "      <td>0</td>\n",
       "      <td>0</td>\n",
       "      <td>0</td>\n",
       "      <td>0</td>\n",
       "      <td>1</td>\n",
       "      <td>0</td>\n",
       "      <td>0</td>\n",
       "    </tr>\n",
       "    <tr>\n",
       "      <th>48837</th>\n",
       "      <td>39</td>\n",
       "      <td>9</td>\n",
       "      <td>0</td>\n",
       "      <td>0</td>\n",
       "      <td>36</td>\n",
       "      <td>0</td>\n",
       "      <td>0</td>\n",
       "      <td>0</td>\n",
       "      <td>1</td>\n",
       "      <td>0</td>\n",
       "      <td>...</td>\n",
       "      <td>0</td>\n",
       "      <td>0</td>\n",
       "      <td>0</td>\n",
       "      <td>0</td>\n",
       "      <td>0</td>\n",
       "      <td>0</td>\n",
       "      <td>0</td>\n",
       "      <td>1</td>\n",
       "      <td>0</td>\n",
       "      <td>0</td>\n",
       "    </tr>\n",
       "    <tr>\n",
       "      <th>48839</th>\n",
       "      <td>38</td>\n",
       "      <td>9</td>\n",
       "      <td>0</td>\n",
       "      <td>0</td>\n",
       "      <td>50</td>\n",
       "      <td>0</td>\n",
       "      <td>0</td>\n",
       "      <td>0</td>\n",
       "      <td>1</td>\n",
       "      <td>0</td>\n",
       "      <td>...</td>\n",
       "      <td>0</td>\n",
       "      <td>0</td>\n",
       "      <td>0</td>\n",
       "      <td>0</td>\n",
       "      <td>0</td>\n",
       "      <td>0</td>\n",
       "      <td>0</td>\n",
       "      <td>1</td>\n",
       "      <td>0</td>\n",
       "      <td>0</td>\n",
       "    </tr>\n",
       "    <tr>\n",
       "      <th>48840</th>\n",
       "      <td>44</td>\n",
       "      <td>9</td>\n",
       "      <td>5455</td>\n",
       "      <td>0</td>\n",
       "      <td>40</td>\n",
       "      <td>0</td>\n",
       "      <td>0</td>\n",
       "      <td>0</td>\n",
       "      <td>1</td>\n",
       "      <td>0</td>\n",
       "      <td>...</td>\n",
       "      <td>0</td>\n",
       "      <td>0</td>\n",
       "      <td>0</td>\n",
       "      <td>0</td>\n",
       "      <td>0</td>\n",
       "      <td>0</td>\n",
       "      <td>0</td>\n",
       "      <td>1</td>\n",
       "      <td>0</td>\n",
       "      <td>0</td>\n",
       "    </tr>\n",
       "    <tr>\n",
       "      <th>48841</th>\n",
       "      <td>35</td>\n",
       "      <td>9</td>\n",
       "      <td>0</td>\n",
       "      <td>0</td>\n",
       "      <td>60</td>\n",
       "      <td>1</td>\n",
       "      <td>0</td>\n",
       "      <td>0</td>\n",
       "      <td>0</td>\n",
       "      <td>1</td>\n",
       "      <td>...</td>\n",
       "      <td>0</td>\n",
       "      <td>0</td>\n",
       "      <td>0</td>\n",
       "      <td>0</td>\n",
       "      <td>0</td>\n",
       "      <td>0</td>\n",
       "      <td>0</td>\n",
       "      <td>1</td>\n",
       "      <td>0</td>\n",
       "      <td>0</td>\n",
       "    </tr>\n",
       "  </tbody>\n",
       "</table>\n",
       "<p>45222 rows × 88 columns</p>\n",
       "</div>"
      ],
      "text/plain": [
       "       age  education  capital_gain  capital_loss  hours_per_week  \\\n",
       "0       39          9          2174             0              40   \n",
       "1       50          9             0             0              13   \n",
       "2       38         11             0             0              40   \n",
       "3       53          1             0             0              40   \n",
       "4       28          9             0             0              40   \n",
       "...    ...        ...           ...           ...             ...   \n",
       "48836   33          9             0             0              40   \n",
       "48837   39          9             0             0              36   \n",
       "48839   38          9             0             0              50   \n",
       "48840   44          9          5455             0              40   \n",
       "48841   35          9             0             0              60   \n",
       "\n",
       "       income_bracket  workclass_Federal-gov  workclass_Local-gov  \\\n",
       "0                   0                      0                    0   \n",
       "1                   0                      0                    0   \n",
       "2                   0                      0                    0   \n",
       "3                   0                      0                    0   \n",
       "4                   0                      0                    0   \n",
       "...               ...                    ...                  ...   \n",
       "48836               0                      0                    0   \n",
       "48837               0                      0                    0   \n",
       "48839               0                      0                    0   \n",
       "48840               0                      0                    0   \n",
       "48841               1                      0                    0   \n",
       "\n",
       "       workclass_Private  workclass_Self-emp-inc  ...  \\\n",
       "0                      0                       0  ...   \n",
       "1                      0                       0  ...   \n",
       "2                      1                       0  ...   \n",
       "3                      1                       0  ...   \n",
       "4                      1                       0  ...   \n",
       "...                  ...                     ...  ...   \n",
       "48836                  1                       0  ...   \n",
       "48837                  1                       0  ...   \n",
       "48839                  1                       0  ...   \n",
       "48840                  1                       0  ...   \n",
       "48841                  0                       1  ...   \n",
       "\n",
       "       native_country_Portugal  native_country_Puerto-Rico  \\\n",
       "0                            0                           0   \n",
       "1                            0                           0   \n",
       "2                            0                           0   \n",
       "3                            0                           0   \n",
       "4                            0                           0   \n",
       "...                        ...                         ...   \n",
       "48836                        0                           0   \n",
       "48837                        0                           0   \n",
       "48839                        0                           0   \n",
       "48840                        0                           0   \n",
       "48841                        0                           0   \n",
       "\n",
       "       native_country_Scotland  native_country_South  native_country_Taiwan  \\\n",
       "0                            0                     0                      0   \n",
       "1                            0                     0                      0   \n",
       "2                            0                     0                      0   \n",
       "3                            0                     0                      0   \n",
       "4                            0                     0                      0   \n",
       "...                        ...                   ...                    ...   \n",
       "48836                        0                     0                      0   \n",
       "48837                        0                     0                      0   \n",
       "48839                        0                     0                      0   \n",
       "48840                        0                     0                      0   \n",
       "48841                        0                     0                      0   \n",
       "\n",
       "       native_country_Thailand  native_country_Trinadad&Tobago  \\\n",
       "0                            0                               0   \n",
       "1                            0                               0   \n",
       "2                            0                               0   \n",
       "3                            0                               0   \n",
       "4                            0                               0   \n",
       "...                        ...                             ...   \n",
       "48836                        0                               0   \n",
       "48837                        0                               0   \n",
       "48839                        0                               0   \n",
       "48840                        0                               0   \n",
       "48841                        0                               0   \n",
       "\n",
       "       native_country_United-States  native_country_Vietnam  \\\n",
       "0                                 1                       0   \n",
       "1                                 1                       0   \n",
       "2                                 1                       0   \n",
       "3                                 1                       0   \n",
       "4                                 0                       0   \n",
       "...                             ...                     ...   \n",
       "48836                             1                       0   \n",
       "48837                             1                       0   \n",
       "48839                             1                       0   \n",
       "48840                             1                       0   \n",
       "48841                             1                       0   \n",
       "\n",
       "       native_country_Yugoslavia  \n",
       "0                              0  \n",
       "1                              0  \n",
       "2                              0  \n",
       "3                              0  \n",
       "4                              0  \n",
       "...                          ...  \n",
       "48836                          0  \n",
       "48837                          0  \n",
       "48839                          0  \n",
       "48840                          0  \n",
       "48841                          0  \n",
       "\n",
       "[45222 rows x 88 columns]"
      ]
     },
     "execution_count": 83,
     "metadata": {},
     "output_type": "execute_result"
    }
   ],
   "source": [
    "# One-Hot Encoding\n",
    "# One-hot encoding is a better choice for the remaining nominal categories\n",
    "\n",
    "df_encoded = pd.get_dummies(df_encoded, columns=Categorical_columns)\n",
    "df_encoded"
   ]
  },
  {
   "cell_type": "code",
   "execution_count": 84,
   "metadata": {
    "colab": {
     "base_uri": "https://localhost:8080/"
    },
    "id": "JtVAZtMpsYxl",
    "outputId": "b3f9f654-99f5-49fe-ab19-0eb87ce5c6c0"
   },
   "outputs": [
    {
     "name": "stdout",
     "output_type": "stream",
     "text": [
      "<class 'pandas.core.frame.DataFrame'>\n",
      "Int64Index: 45222 entries, 0 to 48841\n",
      "Data columns (total 88 columns):\n",
      " #   Column                                     Non-Null Count  Dtype\n",
      "---  ------                                     --------------  -----\n",
      " 0   age                                        45222 non-null  int64\n",
      " 1   education                                  45222 non-null  int8 \n",
      " 2   capital_gain                               45222 non-null  int64\n",
      " 3   capital_loss                               45222 non-null  int64\n",
      " 4   hours_per_week                             45222 non-null  int64\n",
      " 5   income_bracket                             45222 non-null  int8 \n",
      " 6   workclass_Federal-gov                      45222 non-null  uint8\n",
      " 7   workclass_Local-gov                        45222 non-null  uint8\n",
      " 8   workclass_Private                          45222 non-null  uint8\n",
      " 9   workclass_Self-emp-inc                     45222 non-null  uint8\n",
      " 10  workclass_Self-emp-not-inc                 45222 non-null  uint8\n",
      " 11  workclass_State-gov                        45222 non-null  uint8\n",
      " 12  workclass_Without-pay                      45222 non-null  uint8\n",
      " 13  marital_status_Divorced                    45222 non-null  uint8\n",
      " 14  marital_status_Married-AF-spouse           45222 non-null  uint8\n",
      " 15  marital_status_Married-civ-spouse          45222 non-null  uint8\n",
      " 16  marital_status_Married-spouse-absent       45222 non-null  uint8\n",
      " 17  marital_status_Never-married               45222 non-null  uint8\n",
      " 18  marital_status_Separated                   45222 non-null  uint8\n",
      " 19  marital_status_Widowed                     45222 non-null  uint8\n",
      " 20  occupation_Adm-clerical                    45222 non-null  uint8\n",
      " 21  occupation_Armed-Forces                    45222 non-null  uint8\n",
      " 22  occupation_Craft-repair                    45222 non-null  uint8\n",
      " 23  occupation_Exec-managerial                 45222 non-null  uint8\n",
      " 24  occupation_Farming-fishing                 45222 non-null  uint8\n",
      " 25  occupation_Handlers-cleaners               45222 non-null  uint8\n",
      " 26  occupation_Machine-op-inspct               45222 non-null  uint8\n",
      " 27  occupation_Other-service                   45222 non-null  uint8\n",
      " 28  occupation_Priv-house-serv                 45222 non-null  uint8\n",
      " 29  occupation_Prof-specialty                  45222 non-null  uint8\n",
      " 30  occupation_Protective-serv                 45222 non-null  uint8\n",
      " 31  occupation_Sales                           45222 non-null  uint8\n",
      " 32  occupation_Tech-support                    45222 non-null  uint8\n",
      " 33  occupation_Transport-moving                45222 non-null  uint8\n",
      " 34  relationship_Husband                       45222 non-null  uint8\n",
      " 35  relationship_Not-in-family                 45222 non-null  uint8\n",
      " 36  relationship_Other-relative                45222 non-null  uint8\n",
      " 37  relationship_Own-child                     45222 non-null  uint8\n",
      " 38  relationship_Unmarried                     45222 non-null  uint8\n",
      " 39  relationship_Wife                          45222 non-null  uint8\n",
      " 40  race_Amer-Indian-Eskimo                    45222 non-null  uint8\n",
      " 41  race_Asian-Pac-Islander                    45222 non-null  uint8\n",
      " 42  race_Black                                 45222 non-null  uint8\n",
      " 43  race_Other                                 45222 non-null  uint8\n",
      " 44  race_White                                 45222 non-null  uint8\n",
      " 45  sex_Female                                 45222 non-null  uint8\n",
      " 46  sex_Male                                   45222 non-null  uint8\n",
      " 47  native_country_Cambodia                    45222 non-null  uint8\n",
      " 48  native_country_Canada                      45222 non-null  uint8\n",
      " 49  native_country_China                       45222 non-null  uint8\n",
      " 50  native_country_Columbia                    45222 non-null  uint8\n",
      " 51  native_country_Cuba                        45222 non-null  uint8\n",
      " 52  native_country_Dominican-Republic          45222 non-null  uint8\n",
      " 53  native_country_Ecuador                     45222 non-null  uint8\n",
      " 54  native_country_El-Salvador                 45222 non-null  uint8\n",
      " 55  native_country_England                     45222 non-null  uint8\n",
      " 56  native_country_France                      45222 non-null  uint8\n",
      " 57  native_country_Germany                     45222 non-null  uint8\n",
      " 58  native_country_Greece                      45222 non-null  uint8\n",
      " 59  native_country_Guatemala                   45222 non-null  uint8\n",
      " 60  native_country_Haiti                       45222 non-null  uint8\n",
      " 61  native_country_Holand-Netherlands          45222 non-null  uint8\n",
      " 62  native_country_Honduras                    45222 non-null  uint8\n",
      " 63  native_country_Hong                        45222 non-null  uint8\n",
      " 64  native_country_Hungary                     45222 non-null  uint8\n",
      " 65  native_country_India                       45222 non-null  uint8\n",
      " 66  native_country_Iran                        45222 non-null  uint8\n",
      " 67  native_country_Ireland                     45222 non-null  uint8\n",
      " 68  native_country_Italy                       45222 non-null  uint8\n",
      " 69  native_country_Jamaica                     45222 non-null  uint8\n",
      " 70  native_country_Japan                       45222 non-null  uint8\n",
      " 71  native_country_Laos                        45222 non-null  uint8\n",
      " 72  native_country_Mexico                      45222 non-null  uint8\n",
      " 73  native_country_Nicaragua                   45222 non-null  uint8\n",
      " 74  native_country_Outlying-US(Guam-USVI-etc)  45222 non-null  uint8\n",
      " 75  native_country_Peru                        45222 non-null  uint8\n",
      " 76  native_country_Philippines                 45222 non-null  uint8\n",
      " 77  native_country_Poland                      45222 non-null  uint8\n",
      " 78  native_country_Portugal                    45222 non-null  uint8\n",
      " 79  native_country_Puerto-Rico                 45222 non-null  uint8\n",
      " 80  native_country_Scotland                    45222 non-null  uint8\n",
      " 81  native_country_South                       45222 non-null  uint8\n",
      " 82  native_country_Taiwan                      45222 non-null  uint8\n",
      " 83  native_country_Thailand                    45222 non-null  uint8\n",
      " 84  native_country_Trinadad&Tobago             45222 non-null  uint8\n",
      " 85  native_country_United-States               45222 non-null  uint8\n",
      " 86  native_country_Vietnam                     45222 non-null  uint8\n",
      " 87  native_country_Yugoslavia                  45222 non-null  uint8\n",
      "dtypes: int64(4), int8(2), uint8(82)\n",
      "memory usage: 5.3 MB\n"
     ]
    }
   ],
   "source": [
    "df_encoded.info()"
   ]
  },
  {
   "cell_type": "markdown",
   "metadata": {
    "id": "zOF1cF58IHQF"
   },
   "source": [
    "**Apply Normalization on the numerical Columns**\n",
    "\n",
    "in order for logistic regression to converge, we need to normalize numeric columns or increase the maximum number of iterations of the logistic regression model. In this example we incresed the maximum number of iterations."
   ]
  },
  {
   "cell_type": "code",
   "execution_count": 85,
   "metadata": {
    "id": "cd6BgF1YIHQF",
    "outputId": "dabcd0f9-5bfe-4a95-f4d9-74d052754680"
   },
   "outputs": [],
   "source": [
    "# Applying min-max Normalization on the numerical columns\n",
    "\n",
    "# numerical_columns = ['age', 'capital_gain', 'capital_loss', 'hours_per_week']\n",
    "\n",
    "# df_encoded[numerical_columns] = ( \n",
    "    \n",
    "#    df_encoded[numerical_columns] - df_encoded[numerical_columns].min()  \n",
    "    \n",
    "#) /( \n",
    "    \n",
    "#    df_encoded[numerical_columns].max() - df_encoded[numerical_columns].min()\n",
    "#)\n",
    "\n",
    "#df_encoded.head()\n"
   ]
  },
  {
   "cell_type": "markdown",
   "metadata": {
    "id": "n3WbCd8tsYxl"
   },
   "source": [
    "## Modelling"
   ]
  },
  {
   "cell_type": "markdown",
   "metadata": {
    "id": "iL13AzKOsYxl"
   },
   "source": [
    "**Split the data into training and testing sets, and then train the Logistic Regression, K-NN, and Naive Bayes Classifiers on the training set** (Use %timeit when building the model)\n",
    "\n",
    "[Scikit-learn API Reference](https://scikit-learn.org/stable/modules/classes.html)"
   ]
  },
  {
   "cell_type": "code",
   "execution_count": 86,
   "metadata": {
    "id": "zGAMS9N0sYxl"
   },
   "outputs": [],
   "source": [
    "from sklearn.model_selection import train_test_split\n",
    "\n",
    "X = df_encoded.drop('income_bracket', axis=1)\n",
    "y = df_encoded['income_bracket']\n",
    "\n",
    "X_train, X_test, y_train, y_test = train_test_split(X, y, test_size=0.3, random_state=42)"
   ]
  },
  {
   "cell_type": "markdown",
   "metadata": {
    "id": "mKI84pvnIHQG"
   },
   "source": [
    "**Please note that, for this dataset you need to set the `max_iter` attribute of logistic regression to at least `2000` so that the model will be able converge, meaning that it could find a local optimal solution.**\n",
    "\n",
    "Logistic regression fails to converge with this dataset if we run it for too few iterations. It could also be that the dataset is not linearly separable. Since this is a linear model, validation techinques like the ones used in lab 5 can be used.The logistic regression model is an iterative algorithm that is fitted in multiple iterations. It might not converge properly if the input variables are not normalized properly. In this case, it needs more iterations to be able to converge and find a solution.\n",
    "\n",
    "So, you can set `max_iter` attribute of logistic regression to a larger value. The default is `1000`. This should be your last resort. So, if the algorithm does not converge within the first 1000 iterations, you need to set the `max_iter` to a larger value.\n"
   ]
  },
  {
   "cell_type": "code",
   "execution_count": 87,
   "metadata": {
    "id": "OozEds1isYxm"
   },
   "outputs": [],
   "source": [
    "from sklearn.linear_model import LogisticRegression\n",
    "from sklearn.neighbors import KNeighborsClassifier\n",
    "from sklearn.naive_bayes import GaussianNB\n",
    "\n",
    "lr_model = LogisticRegression( max_iter = 2000 )\n",
    "knn_model = KNeighborsClassifier()\n",
    "nb_model = GaussianNB()\n",
    "\n",
    "# we increased the maximum number of iterations for Logistic regression to converge with this dataset"
   ]
  },
  {
   "cell_type": "markdown",
   "metadata": {
    "id": "9xTDM5sgIHQG"
   },
   "source": [
    "**Use the `timeit` magic command.**\n",
    "\n",
    "The `timeit` magic command is used to measure the execution time for the small python code snippets. This command runs the code a million times (by default) to get the most precise value for the code execution time​.\n",
    "\n",
    "It returns the mean and standard deviation of code run time calculated over `r` number of runs and `n` number of loops within each run (*it may return different results for each time you run the cell*)."
   ]
  },
  {
   "cell_type": "code",
   "execution_count": 88,
   "metadata": {
    "colab": {
     "base_uri": "https://localhost:8080/"
    },
    "id": "5UZ_hoG5sYxm",
    "outputId": "59eddc80-ac71-408f-e64f-34b195a9e5d4"
   },
   "outputs": [
    {
     "name": "stdout",
     "output_type": "stream",
     "text": [
      "7.08 s ± 33.5 ms per loop (mean ± std. dev. of 7 runs, 1 loop each)\n"
     ]
    }
   ],
   "source": [
    "# Logistic Regression\n",
    "\n",
    "%timeit lr_model.fit(X_train, y_train)"
   ]
  },
  {
   "cell_type": "code",
   "execution_count": 89,
   "metadata": {
    "colab": {
     "base_uri": "https://localhost:8080/"
    },
    "id": "7iCjR0Tw52Wf",
    "outputId": "d311ff7f-2ef0-4bf5-d741-18d9ca34ebaa"
   },
   "outputs": [
    {
     "name": "stdout",
     "output_type": "stream",
     "text": [
      "1.94 s ± 3.25 ms per loop (mean ± std. dev. of 7 runs, 1 loop each)\n"
     ]
    }
   ],
   "source": [
    "# K-nearst Neighbors Classifier\n",
    "\n",
    "%timeit knn_model.fit(X_train, y_train)"
   ]
  },
  {
   "cell_type": "markdown",
   "metadata": {
    "id": "28vW1yO9IHQH"
   },
   "source": [
    "In the above example, the KNN model building was evaluated for 7 runs with each run having 1 loop. This took an average of 1.94 seconds with a standard deviation of 3.25 milliseconds.\n",
    "\n",
    "Note that the `kNN` model was the fastest one to get trained."
   ]
  },
  {
   "cell_type": "code",
   "execution_count": 90,
   "metadata": {
    "colab": {
     "base_uri": "https://localhost:8080/"
    },
    "id": "pvs-XuH-52RH",
    "outputId": "9ebebfad-8439-45cc-f93f-f703a43602ff"
   },
   "outputs": [
    {
     "name": "stdout",
     "output_type": "stream",
     "text": [
      "68.3 ms ± 1.62 ms per loop (mean ± std. dev. of 7 runs, 10 loops each)\n"
     ]
    }
   ],
   "source": [
    "# Gaussian Naive Bayes\n",
    "\n",
    "%timeit nb_model.fit(X_train, y_train)"
   ]
  },
  {
   "cell_type": "markdown",
   "metadata": {
    "id": "pSpMGG8CsYxm"
   },
   "source": [
    "## Evaluation"
   ]
  },
  {
   "cell_type": "markdown",
   "metadata": {
    "id": "xXqWh75isYxm"
   },
   "source": [
    "**Evaluate each model using their built-in `score` function to get them evaluated based on the `accuracy` metric**\n",
    "\n",
    "**Use `%timeit` when scoring the model**"
   ]
  },
  {
   "cell_type": "markdown",
   "metadata": {
    "id": "gdFNU9X1sYxm"
   },
   "source": [
    "`score` outputs the accuracy score of each model. \n",
    "\n",
    "Since we have two classes with equal importance and the dataset is somehow balanced (75% <=50k and 25% >50k), we'll use accuracy as our measure."
   ]
  },
  {
   "cell_type": "code",
   "execution_count": 91,
   "metadata": {
    "colab": {
     "base_uri": "https://localhost:8080/"
    },
    "id": "OMPBasrCsYxm",
    "outputId": "791d278b-59b2-4bac-c857-051cafac18df"
   },
   "outputs": [
    {
     "data": {
      "text/plain": [
       "0.8441070243974349"
      ]
     },
     "execution_count": 91,
     "metadata": {},
     "output_type": "execute_result"
    }
   ],
   "source": [
    "# Logistic Regression accuarcy\n",
    "\n",
    "lr_model.score(X_test, y_test)"
   ]
  },
  {
   "cell_type": "code",
   "execution_count": 92,
   "metadata": {
    "colab": {
     "base_uri": "https://localhost:8080/"
    },
    "id": "7XNDI7DjIHQI",
    "outputId": "791d278b-59b2-4bac-c857-051cafac18df"
   },
   "outputs": [
    {
     "name": "stdout",
     "output_type": "stream",
     "text": [
      "13.2 ms ± 134 µs per loop (mean ± std. dev. of 7 runs, 100 loops each)\n"
     ]
    }
   ],
   "source": [
    "# Logistic Regression scoring execution time\n",
    "\n",
    "%timeit lr_model.score(X_test, y_test)"
   ]
  },
  {
   "cell_type": "code",
   "execution_count": 93,
   "metadata": {
    "colab": {
     "base_uri": "https://localhost:8080/"
    },
    "id": "p6hj1UmHsYxn",
    "outputId": "9506132c-a933-405e-9aa7-d6cd32d2074e",
    "scrolled": true
   },
   "outputs": [
    {
     "data": {
      "text/plain": [
       "0.8404953195253188"
      ]
     },
     "execution_count": 93,
     "metadata": {},
     "output_type": "execute_result"
    }
   ],
   "source": [
    "# K-nearst Neighbors Classifier accuarcy\n",
    "\n",
    "knn_model.score(X_test, y_test)"
   ]
  },
  {
   "cell_type": "code",
   "execution_count": 94,
   "metadata": {
    "colab": {
     "base_uri": "https://localhost:8080/"
    },
    "id": "Q5LAqo56IHQI",
    "outputId": "9506132c-a933-405e-9aa7-d6cd32d2074e",
    "scrolled": true
   },
   "outputs": [
    {
     "name": "stdout",
     "output_type": "stream",
     "text": [
      "7.15 s ± 50.4 ms per loop (mean ± std. dev. of 7 runs, 1 loop each)\n"
     ]
    }
   ],
   "source": [
    "# K-nearst Neighbors Classifier scoring execution time\n",
    "\n",
    "%timeit knn_model.score(X_test, y_test)"
   ]
  },
  {
   "cell_type": "code",
   "execution_count": 95,
   "metadata": {
    "colab": {
     "base_uri": "https://localhost:8080/"
    },
    "id": "8eHLecXgsYxn",
    "outputId": "48d14f2f-2c03-4bdb-bf48-40bd3fb1ca35"
   },
   "outputs": [
    {
     "data": {
      "text/plain": [
       "0.7848455811896513"
      ]
     },
     "execution_count": 95,
     "metadata": {},
     "output_type": "execute_result"
    }
   ],
   "source": [
    "# Gaussian Naive Bayes accuarcy\n",
    "\n",
    "nb_model.score(X_test, y_test)"
   ]
  },
  {
   "cell_type": "code",
   "execution_count": 96,
   "metadata": {
    "colab": {
     "base_uri": "https://localhost:8080/"
    },
    "id": "x1CXnBiRIHQJ",
    "outputId": "48d14f2f-2c03-4bdb-bf48-40bd3fb1ca35"
   },
   "outputs": [
    {
     "name": "stdout",
     "output_type": "stream",
     "text": [
      "36 ms ± 1.04 ms per loop (mean ± std. dev. of 7 runs, 10 loops each)\n"
     ]
    }
   ],
   "source": [
    "# Gaussian Naive Bayes scoring execution time\n",
    "\n",
    "%timeit nb_model.score(X_test, y_test)"
   ]
  },
  {
   "cell_type": "markdown",
   "metadata": {
    "id": "nDr4ZPq2IHQJ"
   },
   "source": [
    "**Commenting on Evaluation**"
   ]
  },
  {
   "cell_type": "markdown",
   "metadata": {
    "id": "-RtWxk-aIHQJ"
   },
   "source": [
    "`kNN` is a type of instance-based learning (Lazy Learners) where no model is\n",
    "created; the `kNN` algorithm builds a case repository instead and all computations are delayed until prediction therefore, `kNN` requires the longest time in scoring.\n",
    "\n",
    "In this case, the `Logestic Regression` model performs the best, where it is 84.4% accurate. On the other hand, `kNN` and `Guassian Naive Bayes` models showed lower accuracy (84% and 78% respectively). Note that we used the default hyperparameters for each model however, so we can use cross-validation in order to try out different parameters and then finally evaluate using the testing dataset. \n",
    "\n",
    "Also, it would be better to check for the correlation matrix before applying the `Logestic Regression` model to avoid multicollinearity and overfitting"
   ]
  },
  {
   "cell_type": "markdown",
   "metadata": {
    "id": "FQa0E12FsYxn"
   },
   "source": [
    "## References\n",
    "\n",
    "Dataset source: https://archive.ics.uci.edu/ml/datasets/census+income"
   ]
  }
 ],
 "metadata": {
  "colab": {
   "provenance": []
  },
  "kernelspec": {
   "display_name": "Python 3",
   "language": "python",
   "name": "python3"
  },
  "language_info": {
   "codemirror_mode": {
    "name": "ipython",
    "version": 3
   },
   "file_extension": ".py",
   "mimetype": "text/x-python",
   "name": "python",
   "nbconvert_exporter": "python",
   "pygments_lexer": "ipython3",
   "version": "3.9.13"
  },
  "vscode": {
   "interpreter": {
    "hash": "806d670c7bb2cbe074590fc196bfaf591c17bcc1c3e5afa2a6f71dcbde559284"
   }
  }
 },
 "nbformat": 4,
 "nbformat_minor": 1
}
